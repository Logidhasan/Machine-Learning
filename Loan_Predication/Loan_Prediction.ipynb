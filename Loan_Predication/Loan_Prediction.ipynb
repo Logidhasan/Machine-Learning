{
 "cells": [
  {
   "cell_type": "code",
   "execution_count": 135,
   "metadata": {},
   "outputs": [],
   "source": [
    "import pandas as pd \n",
    "import numpy as np \n",
    "import matplotlib.pyplot as plt \n",
    "import seaborn as sns \n",
    "from scipy.stats import pearsonr\n",
    "%matplotlib inline\n",
    "import warnings\n",
    "warnings.filterwarnings(\"ignore\")\n",
    "from sklearn.preprocessing import StandardScaler"
   ]
  },
  {
   "cell_type": "markdown",
   "metadata": {},
   "source": [
    "Reading Data"
   ]
  },
  {
   "cell_type": "code",
   "execution_count": 197,
   "metadata": {},
   "outputs": [],
   "source": [
    "train_data = pd.read_csv(\"Loan_Status_train.csv\")\n",
    "test_data = pd.read_csv(\"Loan_Status_test.csv\")"
   ]
  },
  {
   "cell_type": "markdown",
   "metadata": {},
   "source": [
    "Data Preprocessing"
   ]
  },
  {
   "cell_type": "code",
   "execution_count": 187,
   "metadata": {},
   "outputs": [
    {
     "name": "stdout",
     "output_type": "stream",
     "text": [
      "df_shape: train (614, 13) test (367, 12)\n"
     ]
    }
   ],
   "source": [
    "print (\"df_shape:\", \"train\",(train_data.shape), \"test\",test_data.shape)"
   ]
  },
  {
   "cell_type": "code",
   "execution_count": 188,
   "metadata": {},
   "outputs": [
    {
     "data": {
      "text/html": [
       "<div>\n",
       "<style scoped>\n",
       "    .dataframe tbody tr th:only-of-type {\n",
       "        vertical-align: middle;\n",
       "    }\n",
       "\n",
       "    .dataframe tbody tr th {\n",
       "        vertical-align: top;\n",
       "    }\n",
       "\n",
       "    .dataframe thead th {\n",
       "        text-align: right;\n",
       "    }\n",
       "</style>\n",
       "<table border=\"1\" class=\"dataframe\">\n",
       "  <thead>\n",
       "    <tr style=\"text-align: right;\">\n",
       "      <th></th>\n",
       "      <th>Loan_ID</th>\n",
       "      <th>Gender</th>\n",
       "      <th>Married</th>\n",
       "      <th>Dependents</th>\n",
       "      <th>Education</th>\n",
       "      <th>Self_Employed</th>\n",
       "      <th>ApplicantIncome</th>\n",
       "      <th>CoapplicantIncome</th>\n",
       "      <th>LoanAmount</th>\n",
       "      <th>Loan_Amount_Term</th>\n",
       "      <th>Credit_History</th>\n",
       "      <th>Property_Area</th>\n",
       "      <th>Loan_Status</th>\n",
       "    </tr>\n",
       "  </thead>\n",
       "  <tbody>\n",
       "    <tr>\n",
       "      <th>0</th>\n",
       "      <td>LP001002</td>\n",
       "      <td>Male</td>\n",
       "      <td>No</td>\n",
       "      <td>0</td>\n",
       "      <td>Graduate</td>\n",
       "      <td>No</td>\n",
       "      <td>5849</td>\n",
       "      <td>0.0</td>\n",
       "      <td>NaN</td>\n",
       "      <td>360.0</td>\n",
       "      <td>1.0</td>\n",
       "      <td>Urban</td>\n",
       "      <td>Y</td>\n",
       "    </tr>\n",
       "    <tr>\n",
       "      <th>1</th>\n",
       "      <td>LP001003</td>\n",
       "      <td>Male</td>\n",
       "      <td>Yes</td>\n",
       "      <td>1</td>\n",
       "      <td>Graduate</td>\n",
       "      <td>No</td>\n",
       "      <td>4583</td>\n",
       "      <td>1508.0</td>\n",
       "      <td>128.0</td>\n",
       "      <td>360.0</td>\n",
       "      <td>1.0</td>\n",
       "      <td>Rural</td>\n",
       "      <td>N</td>\n",
       "    </tr>\n",
       "    <tr>\n",
       "      <th>2</th>\n",
       "      <td>LP001005</td>\n",
       "      <td>Male</td>\n",
       "      <td>Yes</td>\n",
       "      <td>0</td>\n",
       "      <td>Graduate</td>\n",
       "      <td>Yes</td>\n",
       "      <td>3000</td>\n",
       "      <td>0.0</td>\n",
       "      <td>66.0</td>\n",
       "      <td>360.0</td>\n",
       "      <td>1.0</td>\n",
       "      <td>Urban</td>\n",
       "      <td>Y</td>\n",
       "    </tr>\n",
       "    <tr>\n",
       "      <th>3</th>\n",
       "      <td>LP001006</td>\n",
       "      <td>Male</td>\n",
       "      <td>Yes</td>\n",
       "      <td>0</td>\n",
       "      <td>Not Graduate</td>\n",
       "      <td>No</td>\n",
       "      <td>2583</td>\n",
       "      <td>2358.0</td>\n",
       "      <td>120.0</td>\n",
       "      <td>360.0</td>\n",
       "      <td>1.0</td>\n",
       "      <td>Urban</td>\n",
       "      <td>Y</td>\n",
       "    </tr>\n",
       "    <tr>\n",
       "      <th>4</th>\n",
       "      <td>LP001008</td>\n",
       "      <td>Male</td>\n",
       "      <td>No</td>\n",
       "      <td>0</td>\n",
       "      <td>Graduate</td>\n",
       "      <td>No</td>\n",
       "      <td>6000</td>\n",
       "      <td>0.0</td>\n",
       "      <td>141.0</td>\n",
       "      <td>360.0</td>\n",
       "      <td>1.0</td>\n",
       "      <td>Urban</td>\n",
       "      <td>Y</td>\n",
       "    </tr>\n",
       "  </tbody>\n",
       "</table>\n",
       "</div>"
      ],
      "text/plain": [
       "    Loan_ID Gender Married Dependents     Education Self_Employed  \\\n",
       "0  LP001002   Male      No          0      Graduate            No   \n",
       "1  LP001003   Male     Yes          1      Graduate            No   \n",
       "2  LP001005   Male     Yes          0      Graduate           Yes   \n",
       "3  LP001006   Male     Yes          0  Not Graduate            No   \n",
       "4  LP001008   Male      No          0      Graduate            No   \n",
       "\n",
       "   ApplicantIncome  CoapplicantIncome  LoanAmount  Loan_Amount_Term  \\\n",
       "0             5849                0.0         NaN             360.0   \n",
       "1             4583             1508.0       128.0             360.0   \n",
       "2             3000                0.0        66.0             360.0   \n",
       "3             2583             2358.0       120.0             360.0   \n",
       "4             6000                0.0       141.0             360.0   \n",
       "\n",
       "   Credit_History Property_Area Loan_Status  \n",
       "0             1.0         Urban           Y  \n",
       "1             1.0         Rural           N  \n",
       "2             1.0         Urban           Y  \n",
       "3             1.0         Urban           Y  \n",
       "4             1.0         Urban           Y  "
      ]
     },
     "execution_count": 188,
     "metadata": {},
     "output_type": "execute_result"
    }
   ],
   "source": [
    "train_data.head()"
   ]
  },
  {
   "cell_type": "code",
   "execution_count": 198,
   "metadata": {},
   "outputs": [
    {
     "data": {
      "text/plain": [
       "Loan_ID               0\n",
       "Gender               11\n",
       "Married               0\n",
       "Dependents           10\n",
       "Education             0\n",
       "Self_Employed        23\n",
       "ApplicantIncome       0\n",
       "CoapplicantIncome     0\n",
       "LoanAmount            5\n",
       "Loan_Amount_Term      6\n",
       "Credit_History       29\n",
       "Property_Area         0\n",
       "dtype: int64"
      ]
     },
     "execution_count": 198,
     "metadata": {},
     "output_type": "execute_result"
    }
   ],
   "source": [
    "test_data.isnull().sum()"
   ]
  },
  {
   "cell_type": "code",
   "execution_count": 189,
   "metadata": {},
   "outputs": [
    {
     "name": "stdout",
     "output_type": "stream",
     "text": [
      "<class 'pandas.core.frame.DataFrame'>\n",
      "RangeIndex: 614 entries, 0 to 613\n",
      "Data columns (total 13 columns):\n",
      " #   Column             Non-Null Count  Dtype  \n",
      "---  ------             --------------  -----  \n",
      " 0   Loan_ID            614 non-null    object \n",
      " 1   Gender             601 non-null    object \n",
      " 2   Married            611 non-null    object \n",
      " 3   Dependents         599 non-null    object \n",
      " 4   Education          614 non-null    object \n",
      " 5   Self_Employed      582 non-null    object \n",
      " 6   ApplicantIncome    614 non-null    int64  \n",
      " 7   CoapplicantIncome  614 non-null    float64\n",
      " 8   LoanAmount         592 non-null    float64\n",
      " 9   Loan_Amount_Term   600 non-null    float64\n",
      " 10  Credit_History     564 non-null    float64\n",
      " 11  Property_Area      614 non-null    object \n",
      " 12  Loan_Status        614 non-null    object \n",
      "dtypes: float64(4), int64(1), object(8)\n",
      "memory usage: 62.5+ KB\n",
      "None 614\n"
     ]
    }
   ],
   "source": [
    "a = train_data.info()\n",
    "b= train_data.Loan_ID.nunique()\n",
    "print (a, b)\n",
    "train_data.drop(['Loan_ID'],axis=1,inplace=True)\n",
    "test_data.drop(['Loan_ID'],axis=1,inplace=True)\n"
   ]
  },
  {
   "cell_type": "code",
   "execution_count": 190,
   "metadata": {},
   "outputs": [
    {
     "data": {
      "text/plain": [
       "Loan_Status\n",
       "Y    0.687296\n",
       "N    0.312704\n",
       "Name: proportion, dtype: float64"
      ]
     },
     "execution_count": 190,
     "metadata": {},
     "output_type": "execute_result"
    }
   ],
   "source": [
    "train_data['Loan_Status'].value_counts(normalize=True) "
   ]
  },
  {
   "cell_type": "code",
   "execution_count": 191,
   "metadata": {},
   "outputs": [
    {
     "data": {
      "text/plain": [
       "Gender               13\n",
       "Married               3\n",
       "Dependents           15\n",
       "Education             0\n",
       "Self_Employed        32\n",
       "ApplicantIncome       0\n",
       "CoapplicantIncome     0\n",
       "LoanAmount           22\n",
       "Loan_Amount_Term     14\n",
       "Credit_History       50\n",
       "Property_Area         0\n",
       "Loan_Status           0\n",
       "dtype: int64"
      ]
     },
     "execution_count": 191,
     "metadata": {},
     "output_type": "execute_result"
    }
   ],
   "source": [
    "#Handling Missing Data\n",
    "\n",
    "train_data.isnull().sum()\n"
   ]
  },
  {
   "cell_type": "code",
   "execution_count": 192,
   "metadata": {},
   "outputs": [
    {
     "data": {
      "text/plain": [
       "Gender                0\n",
       "Married               0\n",
       "Dependents            0\n",
       "Education             0\n",
       "Self_Employed         0\n",
       "ApplicantIncome       0\n",
       "CoapplicantIncome     0\n",
       "LoanAmount           22\n",
       "Loan_Amount_Term      0\n",
       "Credit_History        0\n",
       "Property_Area         0\n",
       "Loan_Status           0\n",
       "dtype: int64"
      ]
     },
     "execution_count": 192,
     "metadata": {},
     "output_type": "execute_result"
    }
   ],
   "source": [
    "#For categorical variables: imputation using mode \n",
    "#There are very few missing values in Gender, Married, Dependents, Credit_History, and Self_Employed features so we can fill them using the mode of the features.\n",
    "\n",
    "train_data['Gender'].fillna(train_data['Gender'].mode()[0], inplace=True)\n",
    "train_data['Married'].fillna(train_data['Married'].mode()[0], inplace=True)\n",
    "train_data['Dependents'].fillna(train_data['Dependents'].mode()[0], inplace=True)\n",
    "train_data['Self_Employed'].fillna(train_data['Self_Employed'].mode()[0], inplace=True)\n",
    "train_data['Credit_History'].fillna(train_data['Credit_History'].mode()[0], inplace=True)\n",
    "train_data['Loan_Amount_Term'].fillna(train_data['Loan_Amount_Term'].mode()[0], inplace=True)\n",
    "train_data.isnull().sum()"
   ]
  },
  {
   "cell_type": "code",
   "execution_count": 193,
   "metadata": {},
   "outputs": [
    {
     "data": {
      "text/plain": [
       "Gender               0\n",
       "Married              0\n",
       "Dependents           0\n",
       "Education            0\n",
       "Self_Employed        0\n",
       "ApplicantIncome      0\n",
       "CoapplicantIncome    0\n",
       "LoanAmount           0\n",
       "Loan_Amount_Term     0\n",
       "Credit_History       0\n",
       "Property_Area        0\n",
       "Loan_Status          0\n",
       "dtype: int64"
      ]
     },
     "execution_count": 193,
     "metadata": {},
     "output_type": "execute_result"
    }
   ],
   "source": [
    "#LoanAmount variable, we can use mean or median to impute the missing values\n",
    "#We will use the median to fill the null values as earlier we saw that the loan amount has outliers \n",
    "#so the mean will not be the proper approach as it is highly affected by the presence of outliers\n",
    "train_data['LoanAmount'].fillna(train_data['LoanAmount'].median(), inplace=True)\n",
    "train_data.isnull().sum()"
   ]
  },
  {
   "cell_type": "code",
   "execution_count": 123,
   "metadata": {},
   "outputs": [
    {
     "data": {
      "text/plain": [
       "Gender               0\n",
       "Married              0\n",
       "Dependents           0\n",
       "Education            0\n",
       "Self_Employed        0\n",
       "ApplicantIncome      0\n",
       "CoapplicantIncome    0\n",
       "LoanAmount           0\n",
       "Loan_Amount_Term     0\n",
       "Credit_History       0\n",
       "Property_Area        0\n",
       "dtype: int64"
      ]
     },
     "execution_count": 123,
     "metadata": {},
     "output_type": "execute_result"
    }
   ],
   "source": [
    "#removing Null values from test data\n",
    "\n",
    "test_data['Gender'].fillna(test_data['Gender'].mode()[0],inplace=True)\n",
    "test_data['Married'].fillna(test_data['Married'].mode()[0], inplace=True)\n",
    "test_data['Dependents'].fillna(test_data['Dependents'].mode()[0], inplace=True)\n",
    "test_data['Self_Employed'].fillna(test_data['Self_Employed'].mode()[0], inplace=True)\n",
    "test_data['Credit_History'].fillna(test_data['Credit_History'].mode()[0], inplace=True)\n",
    "test_data['Loan_Amount_Term'].fillna(test_data['Loan_Amount_Term'].mode()[0], inplace=True)\n",
    "test_data['LoanAmount'].fillna(test_data['LoanAmount'].median(), inplace=True)\n",
    "test_data.isnull().sum()\n"
   ]
  },
  {
   "cell_type": "code",
   "execution_count": 124,
   "metadata": {},
   "outputs": [
    {
     "data": {
      "image/png": "[encoded data removed]",
      "text/plain": [
       "<Figure size 1500x6000 with 7 Axes>"
      ]
     },
     "metadata": {},
     "output_type": "display_data"
    }
   ],
   "source": [
    "obj = (train_data.dtypes == 'object')\n",
    "object_cols = list(obj[obj].index) \n",
    "plt.figure(figsize=(15,60)) \n",
    "index = 1\n",
    "\n",
    "for col in object_cols: \n",
    "    y = train_data[col].value_counts() \n",
    "    plt.subplot(11,4,index) \n",
    "    plt.xticks(rotation=50) \n",
    "    sns.barplot(x=list(y.index), y=y) \n",
    "    index +=1\n"
   ]
  },
  {
   "cell_type": "code",
   "execution_count": 125,
   "metadata": {},
   "outputs": [
    {
     "data": {
      "text/html": [
       "<div>\n",
       "<style scoped>\n",
       "    .dataframe tbody tr th:only-of-type {\n",
       "        vertical-align: middle;\n",
       "    }\n",
       "\n",
       "    .dataframe tbody tr th {\n",
       "        vertical-align: top;\n",
       "    }\n",
       "\n",
       "    .dataframe thead th {\n",
       "        text-align: right;\n",
       "    }\n",
       "</style>\n",
       "<table border=\"1\" class=\"dataframe\">\n",
       "  <thead>\n",
       "    <tr style=\"text-align: right;\">\n",
       "      <th></th>\n",
       "      <th>Gender</th>\n",
       "      <th>Married</th>\n",
       "      <th>Dependents</th>\n",
       "      <th>Education</th>\n",
       "      <th>Self_Employed</th>\n",
       "      <th>ApplicantIncome</th>\n",
       "      <th>CoapplicantIncome</th>\n",
       "      <th>LoanAmount</th>\n",
       "      <th>Loan_Amount_Term</th>\n",
       "      <th>Credit_History</th>\n",
       "      <th>Property_Area</th>\n",
       "      <th>Loan_Status</th>\n",
       "    </tr>\n",
       "  </thead>\n",
       "  <tbody>\n",
       "    <tr>\n",
       "      <th>0</th>\n",
       "      <td>1</td>\n",
       "      <td>0</td>\n",
       "      <td>0</td>\n",
       "      <td>0</td>\n",
       "      <td>0</td>\n",
       "      <td>376</td>\n",
       "      <td>0</td>\n",
       "      <td>81</td>\n",
       "      <td>8</td>\n",
       "      <td>1</td>\n",
       "      <td>2</td>\n",
       "      <td>1</td>\n",
       "    </tr>\n",
       "    <tr>\n",
       "      <th>1</th>\n",
       "      <td>1</td>\n",
       "      <td>1</td>\n",
       "      <td>1</td>\n",
       "      <td>0</td>\n",
       "      <td>0</td>\n",
       "      <td>306</td>\n",
       "      <td>60</td>\n",
       "      <td>81</td>\n",
       "      <td>8</td>\n",
       "      <td>1</td>\n",
       "      <td>0</td>\n",
       "      <td>0</td>\n",
       "    </tr>\n",
       "    <tr>\n",
       "      <th>2</th>\n",
       "      <td>1</td>\n",
       "      <td>1</td>\n",
       "      <td>0</td>\n",
       "      <td>0</td>\n",
       "      <td>1</td>\n",
       "      <td>139</td>\n",
       "      <td>0</td>\n",
       "      <td>26</td>\n",
       "      <td>8</td>\n",
       "      <td>1</td>\n",
       "      <td>2</td>\n",
       "      <td>1</td>\n",
       "    </tr>\n",
       "    <tr>\n",
       "      <th>3</th>\n",
       "      <td>1</td>\n",
       "      <td>1</td>\n",
       "      <td>0</td>\n",
       "      <td>1</td>\n",
       "      <td>0</td>\n",
       "      <td>90</td>\n",
       "      <td>160</td>\n",
       "      <td>73</td>\n",
       "      <td>8</td>\n",
       "      <td>1</td>\n",
       "      <td>2</td>\n",
       "      <td>1</td>\n",
       "    </tr>\n",
       "    <tr>\n",
       "      <th>4</th>\n",
       "      <td>1</td>\n",
       "      <td>0</td>\n",
       "      <td>0</td>\n",
       "      <td>0</td>\n",
       "      <td>0</td>\n",
       "      <td>381</td>\n",
       "      <td>0</td>\n",
       "      <td>94</td>\n",
       "      <td>8</td>\n",
       "      <td>1</td>\n",
       "      <td>2</td>\n",
       "      <td>1</td>\n",
       "    </tr>\n",
       "    <tr>\n",
       "      <th>...</th>\n",
       "      <td>...</td>\n",
       "      <td>...</td>\n",
       "      <td>...</td>\n",
       "      <td>...</td>\n",
       "      <td>...</td>\n",
       "      <td>...</td>\n",
       "      <td>...</td>\n",
       "      <td>...</td>\n",
       "      <td>...</td>\n",
       "      <td>...</td>\n",
       "      <td>...</td>\n",
       "      <td>...</td>\n",
       "    </tr>\n",
       "    <tr>\n",
       "      <th>609</th>\n",
       "      <td>0</td>\n",
       "      <td>0</td>\n",
       "      <td>0</td>\n",
       "      <td>0</td>\n",
       "      <td>0</td>\n",
       "      <td>125</td>\n",
       "      <td>0</td>\n",
       "      <td>29</td>\n",
       "      <td>8</td>\n",
       "      <td>1</td>\n",
       "      <td>0</td>\n",
       "      <td>1</td>\n",
       "    </tr>\n",
       "    <tr>\n",
       "      <th>610</th>\n",
       "      <td>1</td>\n",
       "      <td>1</td>\n",
       "      <td>3</td>\n",
       "      <td>0</td>\n",
       "      <td>0</td>\n",
       "      <td>275</td>\n",
       "      <td>0</td>\n",
       "      <td>7</td>\n",
       "      <td>5</td>\n",
       "      <td>1</td>\n",
       "      <td>0</td>\n",
       "      <td>1</td>\n",
       "    </tr>\n",
       "    <tr>\n",
       "      <th>611</th>\n",
       "      <td>1</td>\n",
       "      <td>1</td>\n",
       "      <td>1</td>\n",
       "      <td>0</td>\n",
       "      <td>0</td>\n",
       "      <td>431</td>\n",
       "      <td>3</td>\n",
       "      <td>162</td>\n",
       "      <td>8</td>\n",
       "      <td>1</td>\n",
       "      <td>2</td>\n",
       "      <td>1</td>\n",
       "    </tr>\n",
       "    <tr>\n",
       "      <th>612</th>\n",
       "      <td>1</td>\n",
       "      <td>1</td>\n",
       "      <td>2</td>\n",
       "      <td>0</td>\n",
       "      <td>0</td>\n",
       "      <td>422</td>\n",
       "      <td>0</td>\n",
       "      <td>132</td>\n",
       "      <td>8</td>\n",
       "      <td>1</td>\n",
       "      <td>2</td>\n",
       "      <td>1</td>\n",
       "    </tr>\n",
       "    <tr>\n",
       "      <th>613</th>\n",
       "      <td>0</td>\n",
       "      <td>0</td>\n",
       "      <td>0</td>\n",
       "      <td>0</td>\n",
       "      <td>1</td>\n",
       "      <td>306</td>\n",
       "      <td>0</td>\n",
       "      <td>86</td>\n",
       "      <td>8</td>\n",
       "      <td>0</td>\n",
       "      <td>1</td>\n",
       "      <td>0</td>\n",
       "    </tr>\n",
       "  </tbody>\n",
       "</table>\n",
       "<p>614 rows × 12 columns</p>\n",
       "</div>"
      ],
      "text/plain": [
       "     Gender  Married  Dependents  Education  Self_Employed  ApplicantIncome  \\\n",
       "0         1        0           0          0              0              376   \n",
       "1         1        1           1          0              0              306   \n",
       "2         1        1           0          0              1              139   \n",
       "3         1        1           0          1              0               90   \n",
       "4         1        0           0          0              0              381   \n",
       "..      ...      ...         ...        ...            ...              ...   \n",
       "609       0        0           0          0              0              125   \n",
       "610       1        1           3          0              0              275   \n",
       "611       1        1           1          0              0              431   \n",
       "612       1        1           2          0              0              422   \n",
       "613       0        0           0          0              1              306   \n",
       "\n",
       "     CoapplicantIncome  LoanAmount  Loan_Amount_Term  Credit_History  \\\n",
       "0                    0          81                 8               1   \n",
       "1                   60          81                 8               1   \n",
       "2                    0          26                 8               1   \n",
       "3                  160          73                 8               1   \n",
       "4                    0          94                 8               1   \n",
       "..                 ...         ...               ...             ...   \n",
       "609                  0          29                 8               1   \n",
       "610                  0           7                 5               1   \n",
       "611                  3         162                 8               1   \n",
       "612                  0         132                 8               1   \n",
       "613                  0          86                 8               0   \n",
       "\n",
       "     Property_Area  Loan_Status  \n",
       "0                2            1  \n",
       "1                0            0  \n",
       "2                2            1  \n",
       "3                2            1  \n",
       "4                2            1  \n",
       "..             ...          ...  \n",
       "609              0            1  \n",
       "610              0            1  \n",
       "611              2            1  \n",
       "612              2            1  \n",
       "613              1            0  \n",
       "\n",
       "[614 rows x 12 columns]"
      ]
     },
     "execution_count": 125,
     "metadata": {},
     "output_type": "execute_result"
    }
   ],
   "source": [
    "#As all the categorical values are binary so we can use Label Encoder for all such columns and the values will change into int datatype.\n",
    "\n",
    "from sklearn.preprocessing import LabelEncoder\n",
    "\n",
    "model = LabelEncoder()\n",
    "cols = ['Gender','Married','Education','Self_Employed','Property_Area','Loan_Status']\n",
    "for col in train_data:\n",
    "  train_data[col]= model.fit_transform(train_data[col])\n",
    "train_data"
   ]
  },
  {
   "cell_type": "code",
   "execution_count": 126,
   "metadata": {},
   "outputs": [
    {
     "data": {
      "text/plain": [
       "((491, 11), (123, 11), (491,), (123,))"
      ]
     },
     "execution_count": 126,
     "metadata": {},
     "output_type": "execute_result"
    }
   ],
   "source": [
    "#Model Training and Evaluation\n",
    "from sklearn.model_selection import train_test_split \n",
    "  \n",
    "X = train_data.drop(['Loan_Status'],axis=1) \n",
    "y = train_data['Loan_Status'] \n",
    "X.shape,y.shape \n",
    "  \n",
    "x_train, x_test, y_train, y_test = train_test_split(X, y, \n",
    "                                                    test_size=0.2, \n",
    "                                                    random_state=1) \n",
    "x_train.shape, x_test.shape, y_train.shape, y_test.shape"
   ]
  },
  {
   "cell_type": "code",
   "execution_count": 163,
   "metadata": {},
   "outputs": [],
   "source": [
    "\n",
    "from sklearn.neighbors import KNeighborsClassifier \n",
    "from sklearn.ensemble import RandomForestClassifier \n",
    "from sklearn.svm import SVC \n",
    "from sklearn.linear_model import LogisticRegression \n",
    "from sklearn.ensemble import GradientBoostingClassifier\n",
    "from sklearn.model_selection import train_test_split\n",
    "from sklearn.metrics import accuracy_score, recall_score, precision_score, f1_score\n",
    "from sklearn.datasets import load_digits\n",
    "from sklearn.ensemble import GradientBoostingRegressor\n",
    "from sklearn.metrics import mean_squared_error\n",
    "from sklearn.tree import DecisionTreeClassifier\n",
    "from sklearn import metrics \n",
    "from sklearn.naive_bayes import GaussianNB\n",
    "import xgboost as xgb\n",
    "from sklearn.model_selection import cross_val_score\n"
   ]
  },
  {
   "cell_type": "code",
   "execution_count": 171,
   "metadata": {},
   "outputs": [],
   "source": [
    "k_values = [i for i in range (1,31)]\n",
    "scores = []\n",
    "\n",
    "scaler = StandardScaler()\n",
    "X = scaler.fit_transform(X)\n",
    "\n",
    "for k in k_values:\n",
    "    knn = KNeighborsClassifier(n_neighbors=k)\n",
    "    score = cross_val_score(knn, X, y, cv=5)\n",
    "    scores.append(np.mean(score))"
   ]
  },
  {
   "cell_type": "code",
   "execution_count": 172,
   "metadata": {},
   "outputs": [
    {
     "data": {
      "text/plain": [
       "Text(0, 0.5, 'Accuracy Score')"
      ]
     },
     "execution_count": 172,
     "metadata": {},
     "output_type": "execute_result"
    },
    {
     "data": {
      "image/png": "[encoded data removed]",
      "text/plain": [
       "<Figure size 640x480 with 1 Axes>"
      ]
     },
     "metadata": {},
     "output_type": "display_data"
    }
   ],
   "source": [
    "sns.lineplot(x = k_values, y = scores, marker = 'o')\n",
    "plt.xlabel(\"K Values\")\n",
    "plt.ylabel(\"Accuracy Score\")"
   ]
  },
  {
   "cell_type": "code",
   "execution_count": 176,
   "metadata": {},
   "outputs": [
    {
     "name": "stdout",
     "output_type": "stream",
     "text": [
      "Accuracy: 0.6585365853658537\n",
      "Precision: 0.6810344827586207\n",
      "Recall: 0.9404761904761905\n",
      "Accuracy: 0.8065173116089613\n",
      "Precision: 0.7872340425531915\n",
      "Recall: 0.985207100591716\n"
     ]
    }
   ],
   "source": [
    "best_index = np.argmax(scores)\n",
    "best_k = k_values[best_index]\n",
    "\n",
    "knn = KNeighborsClassifier(n_neighbors=best_k)\n",
    "knn.fit(x_train, y_train)\n",
    "pred = knn.predict(x_train)\n",
    "y_pred = knn.predict(x_test)\n",
    "\n",
    "accuracy = accuracy_score(y_test, y_pred)\n",
    "precision = precision_score(y_test, y_pred)\n",
    "recall = recall_score(y_test, y_pred)\n",
    "\n",
    "print(\"Accuracy:\", accuracy)\n",
    "print(\"Precision:\", precision)\n",
    "print(\"Recall:\", recall)\n",
    "\n",
    "accuracy = accuracy_score(y_train, pred)\n",
    "precision = precision_score(y_train, pred)\n",
    "recall = recall_score(y_train, pred)\n",
    "\n",
    "print(\"Accuracy:\", accuracy)\n",
    "print(\"Precision:\", precision)\n",
    "print(\"Recall:\", recall)"
   ]
  },
  {
   "cell_type": "code",
   "execution_count": 170,
   "metadata": {},
   "outputs": [
    {
     "name": "stdout",
     "output_type": "stream",
     "text": [
      "     K  Test Score  Train Score\n",
      "0    1    1.000000     0.691057\n",
      "1    2    0.863544     0.463415\n",
      "2    3    0.845214     0.682927\n",
      "3    4    0.828921     0.682927\n",
      "4    5    0.822811     0.682927\n",
      "5    6    0.832994     0.422764\n",
      "6    7    0.822811     0.609756\n",
      "7    8    0.826884     0.512195\n",
      "8    9    0.824847     0.658537\n",
      "9   10    0.824847     0.650407\n",
      "10  11    0.824847     0.682927\n",
      "11  12    0.818737     0.691057\n",
      "12  13    0.810591     0.691057\n",
      "13  14    0.816701     0.691057\n",
      "14  15    0.814664     0.682927\n",
      "15  16    0.816701     0.674797\n",
      "16  17    0.802444     0.682927\n",
      "17  18    0.806517     0.658537\n",
      "18  19    0.802444     0.682927\n"
     ]
    }
   ],
   "source": [
    "knn_r_acc = []\n",
    "for i in range(1,20,1):\n",
    "    knn = KNeighborsClassifier(n_neighbors=i)\n",
    "    knn.fit(x_train,y_train)\n",
    "    test_score = knn.score(x_test,y_test)\n",
    "    train_score = knn.score(x_train,y_train)\n",
    "    knn_r_acc.append((i, train_score, test_score))\n",
    "df = pd.DataFrame(knn_r_acc, columns=['K','Test Score','Train Score'])\n",
    "\n",
    "print(df)\n"
   ]
  },
  {
   "cell_type": "code",
   "execution_count": 169,
   "metadata": {},
   "outputs": [
    {
     "name": "stdout",
     "output_type": "stream",
     "text": [
      "Accuracy Score: 81.47\n",
      "Precision Score: 79.47\n",
      "Recall Score: 98.52\n",
      "F1 Score: 0.8797886393659181\n",
      "Accuracy Score: 81.06\n",
      "Precision Score: 79.24\n",
      "Recall Score: 98.22\n",
      "F1 Score: 0.8771466314398944\n",
      "Accuracy Score: 82.08\n",
      "Precision Score: 80.05\n",
      "Recall Score: 98.52\n",
      "F1 Score: 0.883289124668435\n",
      "Accuracy Score: 81.06\n",
      "Precision Score: 79.24\n",
      "Recall Score: 98.22\n",
      "F1 Score: 0.8771466314398944\n",
      "Accuracy Score: 85.74\n",
      "Precision Score: 83.33\n",
      "Recall Score: 99.11\n",
      "F1 Score: 0.9054054054054054\n",
      "Accuracy Score: 81.87\n",
      "Precision Score: 79.86\n",
      "Recall Score: 98.52\n",
      "F1 Score: 0.8821192052980132\n",
      "Accuracy Score: 81.06\n",
      "Precision Score: 79.24\n",
      "Recall Score: 98.22\n",
      "F1 Score: 0.8771466314398944\n"
     ]
    }
   ],
   "source": [
    "knn = KNeighborsClassifier(n_neighbors=15, weights='uniform', algorithm='auto', leaf_size=50, p=2, metric='minkowski', metric_params=None, n_jobs=None)                               #n_estimators can be 10 - 100  no big impact\n",
    "\n",
    "\n",
    "\n",
    "rfc = RandomForestClassifier(n_estimators = 300, min_samples_leaf = 3, max_depth = 2,     #criterion{“gini”, “entropy”, “log_loss”}, default=”gini” Log_loss giving best score\n",
    "                             criterion = 'log_loss', \n",
    "                             random_state =42)\n",
    "\n",
    "svc = SVC() \n",
    "\n",
    "lc = LogisticRegression() \n",
    "\n",
    "gbc = GradientBoostingClassifier(n_estimators=300,\n",
    "                                 learning_rate=0.02,\n",
    "                                 random_state=0,\n",
    "                                 max_features= 11)\n",
    "\n",
    "tree_clf = DecisionTreeClassifier(criterion='entropy',\n",
    "                                  max_depth=2)\n",
    "\n",
    "gnb = GaussianNB()                                      #Naive Bayes Classifiers\n",
    "\n",
    "\n",
    "\n",
    "# making predictions on the training set \n",
    "for models in (knn,rfc, svc,lc,gbc, tree_clf, gnb): \n",
    "    models.fit(x_train, y_train) \n",
    "    pred = models.predict(x_train)\n",
    "    print (f\"Accuracy Score: {accuracy_score(y_train, pred)*100:.2f}\")\n",
    "    print (f\"Precision Score: {precision_score(y_train, pred)*100:.2f}\")\n",
    "    print (f\"Recall Score: {recall_score(y_train, pred)*100:.2f}\")\n",
    "    print (f\"F1 Score: {f1_score(y_train, pred)}\")\n",
    "\n",
    "\n",
    "\n",
    "\n",
    "\n",
    "\n"
   ]
  },
  {
   "cell_type": "code",
   "execution_count": 109,
   "metadata": {},
   "outputs": [
    {
     "name": "stdout",
     "output_type": "stream",
     "text": [
      "Accuracy Score: 68.29\n",
      "Precision Score: 68.60\n",
      "Recall Score: 98.81\n",
      "F1 Score: 0.8097560975609757\n",
      "Accuracy Score: 80.49\n",
      "Precision Score: 78.30\n",
      "Recall Score: 98.81\n",
      "F1 Score: 0.8736842105263158\n",
      "Accuracy Score: 68.29\n",
      "Precision Score: 68.29\n",
      "Recall Score: 100.00\n",
      "F1 Score: 0.8115942028985508\n",
      "Accuracy Score: 80.49\n",
      "Precision Score: 78.30\n",
      "Recall Score: 98.81\n",
      "F1 Score: 0.8736842105263158\n",
      "Accuracy Score: 78.86\n",
      "Precision Score: 77.88\n",
      "Recall Score: 96.43\n",
      "F1 Score: 0.8617021276595744\n",
      "Accuracy Score: 79.67\n",
      "Precision Score: 78.10\n",
      "Recall Score: 97.62\n",
      "F1 Score: 0.8677248677248677\n",
      "Accuracy Score: 80.49\n",
      "Precision Score: 78.30\n",
      "Recall Score: 98.81\n",
      "F1 Score: 0.8736842105263158\n"
     ]
    }
   ],
   "source": [
    "for clf in (knn,rfc, svc,lc,gbc, tree_clf,gnb): \n",
    "    clf.fit(x_train, y_train) \n",
    "    test_pred = clf.predict(x_test) \n",
    "    print (f\"Accuracy Score: {accuracy_score(y_test, test_pred)*100:.2f}\")\n",
    "    print (f\"Precision Score: {precision_score(y_test, test_pred)*100:.2f}\")\n",
    "    print (f\"Recall Score: {recall_score(y_test, test_pred)*100:.2f}\")\n",
    "    print (f\"F1 Score: {f1_score(y_test, test_pred)}\")"
   ]
  },
  {
   "cell_type": "code",
   "execution_count": 50,
   "metadata": {},
   "outputs": [
    {
     "name": "stdout",
     "output_type": "stream",
     "text": [
      "Accuracy of the model is: 31.70731707317073\n"
     ]
    }
   ],
   "source": [
    "X_train, X_test, y_train, y_test = train_test_split(X, y, \n",
    "                                                    test_size=0.2, \n",
    "                                                    random_state=1) \n",
    "\n",
    "xgb_train = xgb.DMatrix(X_train, y_train, enable_categorical=True)\n",
    "xgb_test = xgb.DMatrix(X_test, y_test, enable_categorical=True)\n",
    "\n",
    "\n",
    "n=100\n",
    "params = {\n",
    "    'objective': 'binary:logistic',\n",
    "    'max_depth': 100,\n",
    "    'learning_rate': 0.5,\n",
    "}\n",
    " \n",
    "model = xgb.train(params=params,dtrain=xgb_train,num_boost_round=n)\n",
    "\n",
    "preds = model.predict(xgb_test)\n",
    "preds = preds.astype(int)\n",
    "\n",
    "accuracy= accuracy_score(y_test,preds)\n",
    "print('Accuracy of the model is:', accuracy*100)\n"
   ]
  }
 ],
 "metadata": {
  "kernelspec": {
   "display_name": "Python 3",
   "language": "python",
   "name": "python3"
  },
  "language_info": {
   "codemirror_mode": {
    "name": "ipython",
    "version": 3
   },
   "file_extension": ".py",
   "mimetype": "text/x-python",
   "name": "python",
   "nbconvert_exporter": "python",
   "pygments_lexer": "ipython3",
   "version": "3.12.3"
  }
 },
 "nbformat": 4,
 "nbformat_minor": 2
}
